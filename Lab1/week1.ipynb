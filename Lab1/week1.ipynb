{
 "cells": [
  {
   "cell_type": "markdown",
   "id": "9f6c78ef-29ee-471f-95ee-5e31932c3c30",
   "metadata": {},
   "source": [
    "# Lab 1"
   ]
  },
  {
   "cell_type": "code",
   "execution_count": 16,
   "id": "d4406f37",
   "metadata": {},
   "outputs": [],
   "source": [
    "import torch\n",
    "import numpy as np"
   ]
  },
  {
   "cell_type": "markdown",
   "id": "641d8aa1",
   "metadata": {},
   "source": [
    "### Q1"
   ]
  },
  {
   "cell_type": "code",
   "execution_count": 17,
   "id": "bebde1c5-a903-4a6f-8917-322472fd8aa7",
   "metadata": {},
   "outputs": [
    {
     "name": "stdout",
     "output_type": "stream",
     "text": [
      "Original Tensor:\n",
      "tensor([ 0,  1,  2,  3,  4,  5,  6,  7,  8,  9, 10, 11])\n",
      "\n",
      "Reshaped Tensor:\n",
      "tensor([[ 0,  1,  2,  3],\n",
      "        [ 4,  5,  6,  7],\n",
      "        [ 8,  9, 10, 11]])\n"
     ]
    }
   ],
   "source": [
    "x = torch.arange(12)\n",
    "print(\"Original Tensor:\")\n",
    "print(x)\n",
    "\n",
    "reshaped_x = x.reshape(3, 4) \n",
    "print(\"\\nReshaped Tensor:\")\n",
    "print(reshaped_x)"
   ]
  },
  {
   "cell_type": "code",
   "execution_count": 57,
   "id": "426f0581-a455-41e1-ac92-173f33485259",
   "metadata": {},
   "outputs": [
    {
     "name": "stdout",
     "output_type": "stream",
     "text": [
      "Viewed Tensor:\n",
      "tensor([[ 0,  1,  2,  3],\n",
      "        [ 4,  5,  6,  7],\n",
      "        [ 8,  9, 10, 11]])\n"
     ]
    }
   ],
   "source": [
    "view = x.view(3, 4)\n",
    "print(\"Viewed Tensor:\")\n",
    "print(view)"
   ]
  },
  {
   "cell_type": "code",
   "execution_count": 56,
   "id": "2fffbb53-a5d6-4b55-a4fd-5ecd7ffad356",
   "metadata": {},
   "outputs": [
    {
     "name": "stdout",
     "output_type": "stream",
     "text": [
      "Stacked Tensor:\n",
      "tensor([[ 0.,  1.,  2.,  3.,  4.,  5.,  6.,  7.,  8.,  9., 10., 11.],\n",
      "        [ 1.,  1.,  1.,  1.,  1.,  1.,  1.,  1.,  1.,  1.,  1.,  1.]])\n"
     ]
    }
   ],
   "source": [
    "y = torch.ones(12)\n",
    "stack = torch.stack((x, y), dim=0)\n",
    "print(\"Stacked Tensor:\")\n",
    "print(stack)"
   ]
  },
  {
   "cell_type": "code",
   "execution_count": 58,
   "id": "e03a5ed7-4e2e-4786-881d-c17627eb10f4",
   "metadata": {},
   "outputs": [
    {
     "name": "stdout",
     "output_type": "stream",
     "text": [
      "Tensor with extra dimensions:\n",
      "tensor([[[1.],\n",
      "         [1.],\n",
      "         [1.]]])\n",
      "\n",
      "Squeezed Tensor:\n",
      "tensor([1., 1., 1.])\n"
     ]
    }
   ],
   "source": [
    "z = torch.ones(1, 3, 1)\n",
    "print(\"Tensor with extra dimensions:\")\n",
    "print(z)\n",
    "\n",
    "squeez = z.squeeze()\n",
    "print(\"\\nSqueezed Tensor:\")\n",
    "print(squeez)"
   ]
  },
  {
   "cell_type": "code",
   "execution_count": 59,
   "id": "bffdcf90-b2a5-494c-8a48-7677c17e998b",
   "metadata": {},
   "outputs": [
    {
     "name": "stdout",
     "output_type": "stream",
     "text": [
      "Unsqueezed Tensor:\n",
      "tensor([[[[1.],\n",
      "          [1.],\n",
      "          [1.]]]])\n"
     ]
    }
   ],
   "source": [
    "unsqueeze = z.unsqueeze(0)\n",
    "print(\"Unsqueezed Tensor:\")\n",
    "print(unsqueeze)"
   ]
  },
  {
   "cell_type": "markdown",
   "id": "1558ba91-46e2-4c2c-bf28-c15aba728dc5",
   "metadata": {},
   "source": [
    "### Q2"
   ]
  },
  {
   "cell_type": "code",
   "execution_count": 22,
   "id": "b11a94a0-838a-4c10-ac85-e0bcbb668dcb",
   "metadata": {},
   "outputs": [
    {
     "name": "stdout",
     "output_type": "stream",
     "text": [
      "Original tensor:\n",
      "tensor([[-0.5684],\n",
      "        [-0.5562],\n",
      "        [ 0.6695]])\n",
      "\n",
      "Permuted tensor (dim reordered to (1, 3)):\n",
      "tensor([[-0.5684, -0.5562,  0.6695]])\n"
     ]
    }
   ],
   "source": [
    "tensor = torch.randn(3, 1)\n",
    "print(\"Original tensor:\")\n",
    "print(tensor)\n",
    "\n",
    "permuted_tensor = tensor.permute(1, 0)\n",
    "print(\"\\nPermuted tensor (dim reordered to (1, 3)):\")\n",
    "print(permuted_tensor)"
   ]
  },
  {
   "cell_type": "markdown",
   "id": "12147759-bb3e-4fc6-8ec4-1a1b6a15364a",
   "metadata": {},
   "source": [
    "### Q3"
   ]
  },
  {
   "cell_type": "markdown",
   "id": "7c321a6f-13b5-43ce-8b61-46805d028db8",
   "metadata": {},
   "source": [
    "#### Integer Indexing"
   ]
  },
  {
   "cell_type": "code",
   "execution_count": 61,
   "id": "a53c6ad6-bbfc-44e7-b463-940743074621",
   "metadata": {},
   "outputs": [
    {
     "name": "stdout",
     "output_type": "stream",
     "text": [
      "Original Tensor:\n",
      "tensor([[1, 2, 3],\n",
      "        [4, 5, 6],\n",
      "        [7, 8, 9]])\n",
      "\n",
      "Element at (0, 1): tensor(2)\n"
     ]
    }
   ],
   "source": [
    "tensor = torch.tensor([[1, 2, 3], [4, 5, 6], [7, 8, 9]])\n",
    "print(\"Original Tensor:\")\n",
    "print(tensor)\n",
    "element = tensor[0, 1]\n",
    "print(\"\\nElement at (0, 1):\", element)"
   ]
  },
  {
   "cell_type": "markdown",
   "id": "7e0c308b-8074-483b-b7e5-057e6fc138aa",
   "metadata": {},
   "source": [
    "#### Slicing"
   ]
  },
  {
   "cell_type": "code",
   "execution_count": 60,
   "id": "f469badd-7931-4d88-88ec-feeca991f584",
   "metadata": {},
   "outputs": [
    {
     "name": "stdout",
     "output_type": "stream",
     "text": [
      "\n",
      "Rows 1-2, Columns 0 and 2:\n",
      "tensor([[4, 6]])\n"
     ]
    }
   ],
   "source": [
    "sliced = tensor[1:3, [0, 2]]\n",
    "print(\"\\nRows 1-2, Columns 0 and 2:\")\n",
    "print(sliced)"
   ]
  },
  {
   "cell_type": "markdown",
   "id": "1e7651bc-ce1b-4cad-911a-493564bb1e22",
   "metadata": {},
   "source": [
    "#### Boolean  Indexing"
   ]
  },
  {
   "cell_type": "code",
   "execution_count": 62,
   "id": "ca9e03cd-077b-4142-b089-d661a63905e6",
   "metadata": {},
   "outputs": [
    {
     "name": "stdout",
     "output_type": "stream",
     "text": [
      "\n",
      "Elements greater than 5:\n",
      "tensor([6, 7, 8, 9])\n"
     ]
    }
   ],
   "source": [
    "mask = tensor > 5\n",
    "filtered_tensor = tensor[mask]\n",
    "print(\"\\nElements greater than 5:\")\n",
    "print(filtered_tensor)"
   ]
  },
  {
   "cell_type": "markdown",
   "id": "d8b47a2a-8630-4c34-8b49-3b736555aa92",
   "metadata": {},
   "source": [
    "#### Advanced Indexing"
   ]
  },
  {
   "cell_type": "code",
   "execution_count": 63,
   "id": "82cf6f57-73c9-4970-b72b-f3c217b9b770",
   "metadata": {},
   "outputs": [
    {
     "name": "stdout",
     "output_type": "stream",
     "text": [
      "\n",
      "All matrices, column 1:\n",
      "tensor([[ 2,  5,  8],\n",
      "        [11, 14, 17]])\n"
     ]
    }
   ],
   "source": [
    "tensor_3d = torch.tensor([[[1, 2, 3], [4, 5, 6], [7, 8, 9]],\n",
    "                          [[10, 11, 12], [13, 14, 15], [16, 17, 18]]])\n",
    "\n",
    "ind = tensor_3d[:, ..., 1]\n",
    "print(\"\\nAll matrices, column 1:\")\n",
    "print(ind)"
   ]
  },
  {
   "cell_type": "markdown",
   "id": "3b3ade64-ade5-4a7c-9fee-0e63323c3dc7",
   "metadata": {},
   "source": [
    "### Q4"
   ]
  },
  {
   "cell_type": "code",
   "execution_count": 27,
   "id": "4e522432-e700-4de8-af74-0c608c6331c1",
   "metadata": {},
   "outputs": [
    {
     "name": "stdout",
     "output_type": "stream",
     "text": [
      "NumPy array converted to PyTorch tensor:\n",
      "tensor([[1, 2, 3],\n",
      "        [4, 5, 6]])\n",
      "\n",
      "PyTorch tensor converted back to NumPy array:\n",
      "[[1 2 3]\n",
      " [4 5 6]]\n"
     ]
    }
   ],
   "source": [
    "numpy_array = np.array([[1, 2, 3], [4, 5, 6]])\n",
    "\n",
    "tensor = torch.from_numpy(numpy_array)\n",
    "print(\"NumPy array converted to PyTorch tensor:\")\n",
    "print(tensor)\n",
    "\n",
    "numpy_array_back = tensor.numpy()\n",
    "print(\"\\nPyTorch tensor converted back to NumPy array:\")\n",
    "print(numpy_array_back)"
   ]
  },
  {
   "cell_type": "markdown",
   "id": "fdb1816e-b684-4d98-a9e9-700532b7ab2e",
   "metadata": {},
   "source": [
    "### Q5"
   ]
  },
  {
   "cell_type": "code",
   "execution_count": 64,
   "id": "b2f53f7a-121f-4184-9a08-faa3ea48c2c7",
   "metadata": {
    "scrolled": false
   },
   "outputs": [
    {
     "name": "stdout",
     "output_type": "stream",
     "text": [
      "tensor([[ 0.1984,  0.7821,  1.0391, -0.7245, -0.8489, -1.2169, -0.0810],\n",
      "        [ 1.3615, -2.0615,  0.6741, -1.3233, -1.3598, -0.8667, -0.5640],\n",
      "        [-2.0565, -0.3567,  0.9571, -0.6619, -0.8285, -0.6057, -0.1354],\n",
      "        [ 0.7471,  0.6118,  1.8678, -0.2616, -0.2501,  0.5011,  0.2600],\n",
      "        [-1.6370,  0.1577,  0.3957, -1.3677, -2.9662, -1.7178, -0.5824],\n",
      "        [-0.6153,  1.5496,  0.5989, -0.6377, -2.2858, -0.3677, -0.3866],\n",
      "        [-1.0370,  0.5920, -0.7557,  0.3917,  0.7470,  1.3798,  1.2877]])\n"
     ]
    }
   ],
   "source": [
    "rand = torch.randn(7, 7)\n",
    "\n",
    "print(rand)"
   ]
  },
  {
   "cell_type": "markdown",
   "id": "b4440def-96fc-4922-ba08-f1f455aef5f5",
   "metadata": {},
   "source": [
    "### Q6"
   ]
  },
  {
   "cell_type": "code",
   "execution_count": 44,
   "id": "3cd7826c-b904-48c6-b5dc-63e3a5aa4a5a",
   "metadata": {},
   "outputs": [
    {
     "name": "stdout",
     "output_type": "stream",
     "text": [
      "Product of matrix multiplication:\n",
      "tensor([[ 0.8861],\n",
      "        [ 0.1927],\n",
      "        [-1.8275],\n",
      "        [-2.0454],\n",
      "        [-2.4822],\n",
      "        [-1.8849],\n",
      "        [-5.4286]])\n"
     ]
    }
   ],
   "source": [
    "tensor_7x7 = torch.randn(7, 7)\n",
    "\n",
    "tensor_1x7 = torch.randn(1, 7)\n",
    "\n",
    "r = torch.matmul(tensor_7x7, tensor_1x7.T)\n",
    "\n",
    "print(\"Product of matrix multiplication:\")\n",
    "print(r)"
   ]
  },
  {
   "cell_type": "markdown",
   "id": "650866c9-3442-4149-b489-b6de4d3d5d07",
   "metadata": {},
   "source": [
    "### Q7"
   ]
  },
  {
   "cell_type": "code",
   "execution_count": 45,
   "id": "445a66a7-78cc-4772-8dc0-de3a26221210",
   "metadata": {},
   "outputs": [
    {
     "name": "stdout",
     "output_type": "stream",
     "text": [
      "Tensor 1 on: cuda:0\n",
      "tensor([[ 1.1173, -2.5684, -1.3766],\n",
      "        [-0.8294,  0.2219, -0.5452]], device='cuda:0')\n",
      "\n",
      "Tensor 2 on: cuda:0\n",
      "tensor([[ 0.4458, -0.1277, -0.3025],\n",
      "        [ 1.8625,  0.9942, -0.3910]], device='cuda:0')\n"
     ]
    }
   ],
   "source": [
    "device = torch.device(\"cuda\" if torch.cuda.is_available() else \"cpu\")\n",
    "\n",
    "tensor1 = torch.randn(2, 3)\n",
    "tensor2 = torch.randn(2, 3)\n",
    "\n",
    "tensor1 = tensor1.to(device)\n",
    "tensor2 = tensor2.to(device)\n",
    "\n",
    "print(\"Tensor 1 on:\", tensor1.device)\n",
    "print(tensor1)\n",
    "print(\"\\nTensor 2 on:\", tensor2.device)\n",
    "print(tensor2)"
   ]
  },
  {
   "cell_type": "markdown",
   "id": "8be15a04-76b9-4a66-934a-76480d210e8f",
   "metadata": {},
   "source": [
    "### Q8"
   ]
  },
  {
   "cell_type": "code",
   "execution_count": 46,
   "id": "0e30f670-73ac-4820-9000-ae61aae49aef",
   "metadata": {},
   "outputs": [
    {
     "name": "stdout",
     "output_type": "stream",
     "text": [
      "Product of matrix multiplication:\n",
      "tensor([[ 1.2426,  0.0658],\n",
      "        [-0.2332, -1.1111]], device='cuda:0')\n"
     ]
    }
   ],
   "source": [
    "r = torch.matmul(tensor1, tensor2.T)\n",
    "\n",
    "print(\"Product of matrix multiplication:\")\n",
    "print(r)"
   ]
  },
  {
   "cell_type": "markdown",
   "id": "12d8ebda-30a1-4450-8823-451ca35f28f9",
   "metadata": {},
   "source": [
    "### Q9"
   ]
  },
  {
   "cell_type": "code",
   "execution_count": 67,
   "id": "d01af0dc-54eb-419d-97a9-95ca9e5d0792",
   "metadata": {},
   "outputs": [
    {
     "name": "stdout",
     "output_type": "stream",
     "text": [
      "Max value in Result: 1.242630124092102\n",
      "Min value in Result: -1.111060619354248\n"
     ]
    }
   ],
   "source": [
    "maxx = torch.max(r)\n",
    "minn = torch.min(r)\n",
    "\n",
    "print(f\"Max value in Result: {maxx}\")\n",
    "print(f\"Min value in Result: {minn}\")"
   ]
  },
  {
   "cell_type": "markdown",
   "id": "a7ee193a-2175-48dc-a6d7-519789e9e06e",
   "metadata": {},
   "source": [
    "### Q10"
   ]
  },
  {
   "cell_type": "code",
   "execution_count": 68,
   "id": "da5ec036-3e77-4b5e-ae17-3c2e98838b78",
   "metadata": {},
   "outputs": [
    {
     "name": "stdout",
     "output_type": "stream",
     "text": [
      "Max value in Result: 0\n",
      "Min value in Result: 3\n"
     ]
    }
   ],
   "source": [
    "maxx = torch.argmax(r)\n",
    "minn = torch.argmin(r)\n",
    "\n",
    "print(f\"Max value in Result: {maxx}\")\n",
    "print(f\"Min value in Result: {minn}\")"
   ]
  },
  {
   "cell_type": "markdown",
   "id": "10dad484-9e85-4676-ba28-5679ce685707",
   "metadata": {},
   "source": [
    "### Q11"
   ]
  },
  {
   "cell_type": "code",
   "execution_count": 69,
   "id": "46c9fae3-3bf7-449c-ad1e-722b3eec3fe3",
   "metadata": {},
   "outputs": [
    {
     "name": "stdout",
     "output_type": "stream",
     "text": [
      "First tensor (shape (1, 1, 1, 10)):\n",
      "tensor([[[[-0.1468,  0.7861,  0.9468, -1.1143,  1.6908, -0.8948, -0.3556,\n",
      "            1.2324,  0.1382, -1.6822]]]])\n",
      "Shape of the first tensor: torch.Size([1, 1, 1, 10])\n",
      "\n",
      "\n",
      "Second tensor after squeezing (shape (10)):\n",
      "tensor([[ 1.1173, -2.5684, -1.3766],\n",
      "        [-0.8294,  0.2219, -0.5452]], device='cuda:0')\n",
      "Shape of the second tensor: torch.Size([2, 3])\n"
     ]
    }
   ],
   "source": [
    "torch.manual_seed(7)\n",
    "\n",
    "t1 = torch.randn(1, 1, 1, 10)\n",
    "\n",
    "t2 = tensor1.squeeze()\n",
    "\n",
    "print(\"First tensor (shape (1, 1, 1, 10)):\")\n",
    "print(t1)\n",
    "print(f\"Shape of the first tensor: {t1.shape}\\n\")\n",
    "\n",
    "print(\"\\nSecond tensor after squeezing (shape (10)):\")\n",
    "print(t2)\n",
    "print(f\"Shape of the second tensor: {t2.shape}\")"
   ]
  }
 ],
 "metadata": {
  "kernelspec": {
   "display_name": "Python (myenv)",
   "language": "python",
   "name": "myenv"
  },
  "language_info": {
   "codemirror_mode": {
    "name": "ipython",
    "version": 3
   },
   "file_extension": ".py",
   "mimetype": "text/x-python",
   "name": "python",
   "nbconvert_exporter": "python",
   "pygments_lexer": "ipython3",
   "version": "3.12.3"
  }
 },
 "nbformat": 4,
 "nbformat_minor": 5
}
