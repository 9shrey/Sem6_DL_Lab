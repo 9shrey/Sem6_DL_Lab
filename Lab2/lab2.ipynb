{
 "cells": [
  {
   "cell_type": "code",
   "execution_count": 1,
   "id": "d0e18403-a044-4172-b555-ed3e4e46cda1",
   "metadata": {},
   "outputs": [],
   "source": [
    "import torch"
   ]
  },
  {
   "cell_type": "markdown",
   "id": "c33765de-e4e5-4eaa-a209-28d479587a21",
   "metadata": {},
   "source": [
    "# Q1"
   ]
  },
  {
   "cell_type": "code",
   "execution_count": 2,
   "id": "9694d3e6-b56a-4b85-8e34-be9d45bf1499",
   "metadata": {},
   "outputs": [
    {
     "name": "stdout",
     "output_type": "stream",
     "text": [
      "Gradient of z with respect to a: 34.0\n"
     ]
    }
   ],
   "source": [
    "a = torch.tensor(1.0, requires_grad=True)\n",
    "b = torch.tensor(1.0, requires_grad=True)\n",
    "\n",
    "x = 2*a + 3*b\n",
    "y = 5*a**2 + 3*b**3\n",
    "z = 2*x + 3*y\n",
    "\n",
    "z.backward() \n",
    "\n",
    "print(f\"Gradient of z with respect to a: {a.grad.item()}\")"
   ]
  },
  {
   "cell_type": "markdown",
   "id": "946b8a49-0bef-44ed-a080-374e49a9a198",
   "metadata": {},
   "source": [
    "# Q2"
   ]
  },
  {
   "cell_type": "code",
   "execution_count": 3,
   "id": "05ba8fb4-87f7-47fb-9fcb-6c4349736e1e",
   "metadata": {},
   "outputs": [
    {
     "name": "stdout",
     "output_type": "stream",
     "text": [
      "Gradient of a with respect to w: 1.0\n"
     ]
    }
   ],
   "source": [
    "x = torch.tensor(1.0, requires_grad=True)  \n",
    "b = torch.tensor(1.0, requires_grad=True)  \n",
    "w = torch.tensor(1.0, requires_grad=True)  \n",
    "\n",
    "u = w * x\n",
    "v = u + b\n",
    "a = torch.relu(v)\n",
    "\n",
    "a.backward()\n",
    "\n",
    "print(f\"Gradient of a with respect to w: {w.grad.item()}\")"
   ]
  },
  {
   "cell_type": "markdown",
   "id": "cacb1d4f-a03d-485e-a7ad-61e77fac0da9",
   "metadata": {},
   "source": [
    "# Q3"
   ]
  },
  {
   "cell_type": "code",
   "execution_count": 4,
   "id": "8f3744ad-9153-4d9f-831b-4eb65ccb3276",
   "metadata": {},
   "outputs": [
    {
     "name": "stdout",
     "output_type": "stream",
     "text": [
      "Gradient of a with respect to w: 0.10499362647533417\n"
     ]
    }
   ],
   "source": [
    "x = torch.tensor(1.0, requires_grad=True)  \n",
    "b = torch.tensor(1.0, requires_grad=True)  \n",
    "w = torch.tensor(1.0, requires_grad=True) \n",
    "\n",
    "u = w * x\n",
    "v = u + b\n",
    "a = torch.sigmoid(v)\n",
    "\n",
    "a.backward()\n",
    "\n",
    "print(f\"Gradient of a with respect to w: {w.grad.item()}\")"
   ]
  },
  {
   "cell_type": "markdown",
   "id": "c8993d60-eb28-490b-bd8c-c3eb5a87d843",
   "metadata": {},
   "source": [
    "# Q4\n"
   ]
  },
  {
   "cell_type": "code",
   "execution_count": 5,
   "id": "bc867f2e-8d4b-4b85-b287-26da034c3770",
   "metadata": {},
   "outputs": [
    {
     "name": "stdout",
     "output_type": "stream",
     "text": [
      "Gradient of f with respect to x: -0.09744400531053543\n"
     ]
    }
   ],
   "source": [
    "x = torch.tensor(1.0, requires_grad=True)\n",
    "\n",
    "u = x**2\n",
    "v = 2*x\n",
    "w = torch.sin(x)\n",
    "f = torch.exp(-u - v - w)\n",
    "\n",
    "f.backward()\n",
    "\n",
    "print(f\"Gradient of f with respect to x: {x.grad.item()}\")"
   ]
  },
  {
   "cell_type": "markdown",
   "id": "bd180f11-34ae-48cf-b0b9-292a0fc2ef9a",
   "metadata": {},
   "source": [
    "# Q5"
   ]
  },
  {
   "cell_type": "code",
   "execution_count": 6,
   "id": "32a925c0-94a7-45ba-8e8b-6e94e446e524",
   "metadata": {},
   "outputs": [
    {
     "name": "stdout",
     "output_type": "stream",
     "text": [
      "Gradient of y with respect to x: 326.0\n"
     ]
    }
   ],
   "source": [
    "x=torch.tensor(2.0, requires_grad=True)\n",
    "\n",
    "y=8*x**4+3*x**3+7*x**2+6*x+3\n",
    "y.backward()\n",
    "\n",
    "print(f\"Gradient of y with respect to x: {x.grad.item()}\")"
   ]
  },
  {
   "cell_type": "markdown",
   "id": "78e3e3fd-028e-42e7-9f1c-37f332af2d8d",
   "metadata": {},
   "source": [
    "# Q6"
   ]
  },
  {
   "cell_type": "code",
   "execution_count": 11,
   "id": "cd8ce983-235e-4bb2-8d3c-7c062edc1d5b",
   "metadata": {},
   "outputs": [
    {
     "name": "stdout",
     "output_type": "stream",
     "text": [
      "tensor(0.8415, grad_fn=<SinBackward0>)\n",
      "tensor(2., grad_fn=<MulBackward0>)\n",
      "tensor(2.3768, grad_fn=<DivBackward0>)\n",
      "tensor(2.3768, grad_fn=<MulBackward0>)\n",
      "tensor(1.2169, grad_fn=<LogBackward0>)\n",
      "tensor(0.8387, grad_fn=<TanhBackward0>)\n",
      "tensor(0.8387, grad_fn=<TanhBackward0>)\n",
      "Gradient of f with respect to y: -0.13400448858737946\n"
     ]
    }
   ],
   "source": [
    "x = torch.tensor(1.0, requires_grad=True)\n",
    "y = torch.tensor(1.0, requires_grad=True)\n",
    "z = torch.tensor(1.0, requires_grad=True)\n",
    "\n",
    "b = torch.sin(y)\n",
    "b.retain_grad()\n",
    "print(b)\n",
    "\n",
    "a = 2 * x\n",
    "a.retain_grad()\n",
    "print(a)\n",
    "\n",
    "c = a / b\n",
    "c.retain_grad()\n",
    "print(c)\n",
    "\n",
    "d = c * z\n",
    "d.retain_grad()\n",
    "print(d)\n",
    "\n",
    "e = torch.log(d + 1)\n",
    "e.retain_grad()\n",
    "print(e)\n",
    "\n",
    "f = torch.tanh(e)\n",
    "f.retain_grad()\n",
    "print(f)\n",
    "\n",
    "f.backward()\n",
    "print(f\"Gradient of f with respect to y: {y.grad.item()}\")"
   ]
  },
  {
   "cell_type": "code",
   "execution_count": null,
   "id": "df9fff5d",
   "metadata": {},
   "outputs": [],
   "source": [
    " "
   ]
  }
 ],
 "metadata": {
  "kernelspec": {
   "display_name": "Python (myenv)",
   "language": "python",
   "name": "myenv"
  },
  "language_info": {
   "codemirror_mode": {
    "name": "ipython",
    "version": 3
   },
   "file_extension": ".py",
   "mimetype": "text/x-python",
   "name": "python",
   "nbconvert_exporter": "python",
   "pygments_lexer": "ipython3",
   "version": "3.12.3"
  }
 },
 "nbformat": 4,
 "nbformat_minor": 5
}
